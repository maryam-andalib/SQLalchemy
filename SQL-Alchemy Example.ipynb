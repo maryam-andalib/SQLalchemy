{
 "cells": [
  {
   "cell_type": "code",
   "execution_count": 3,
   "metadata": {},
   "outputs": [],
   "source": [
    "import pandas as pd"
   ]
  },
  {
   "cell_type": "code",
   "execution_count": 4,
   "metadata": {},
   "outputs": [],
   "source": [
    "room_entries = pd.read_csv(''/DB/room_entries.csv')"
   ]
  },
  {
   "cell_type": "code",
   "execution_count": 5,
   "metadata": {},
   "outputs": [
    {
     "data": {
      "text/html": [
       "<div>\n",
       "<style scoped>\n",
       "    .dataframe tbody tr th:only-of-type {\n",
       "        vertical-align: middle;\n",
       "    }\n",
       "\n",
       "    .dataframe tbody tr th {\n",
       "        vertical-align: top;\n",
       "    }\n",
       "\n",
       "    .dataframe thead th {\n",
       "        text-align: right;\n",
       "    }\n",
       "</style>\n",
       "<table border=\"1\" class=\"dataframe\">\n",
       "  <thead>\n",
       "    <tr style=\"text-align: right;\">\n",
       "      <th></th>\n",
       "      <th>timestamp</th>\n",
       "      <th>user</th>\n",
       "      <th>room</th>\n",
       "      <th>room_name</th>\n",
       "    </tr>\n",
       "  </thead>\n",
       "  <tbody>\n",
       "    <tr>\n",
       "      <th>0</th>\n",
       "      <td>1517115600</td>\n",
       "      <td>4f1897100d843738adf0f86c0510cffe</td>\n",
       "      <td>d4aaab942cbbe0e5b7726c6107f11608</td>\n",
       "      <td>Aubrielle's Kansas City Royals Room</td>\n",
       "    </tr>\n",
       "    <tr>\n",
       "      <th>1</th>\n",
       "      <td>1517115600</td>\n",
       "      <td>9fce3905a9bd5cd02297092a2f3894e8</td>\n",
       "      <td>ebe5843f5d3d9d23dc3024cc3e6188f5</td>\n",
       "      <td>Jude's Room</td>\n",
       "    </tr>\n",
       "    <tr>\n",
       "      <th>2</th>\n",
       "      <td>1517115601</td>\n",
       "      <td>c8adb30f27f1f2c1638c6b2f1075b344</td>\n",
       "      <td>210d8d1b60ae0d76c8740ebdda1f0375</td>\n",
       "      <td>Walter's Indianapolis Colts Room</td>\n",
       "    </tr>\n",
       "    <tr>\n",
       "      <th>3</th>\n",
       "      <td>1517115601</td>\n",
       "      <td>c0394190e82e6ef469bc1bf896d780bb</td>\n",
       "      <td>3c2cd82f285b0f1d33307d9dd72511d1</td>\n",
       "      <td>Ezekiel's Finding Nemo Room</td>\n",
       "    </tr>\n",
       "    <tr>\n",
       "      <th>4</th>\n",
       "      <td>1517115601</td>\n",
       "      <td>a7afb0757f3d05a844d2840927ba3d86</td>\n",
       "      <td>98dbfe778189fd55c116aa9b91166f57</td>\n",
       "      <td>Jude's St. Louis Cardinals Room</td>\n",
       "    </tr>\n",
       "    <tr>\n",
       "      <th>5</th>\n",
       "      <td>1517115603</td>\n",
       "      <td>43e9bf46e500316066bee4b69db85ee1</td>\n",
       "      <td>cfad11a52dbc7e230f710f2f58270883</td>\n",
       "      <td>Jude's Room</td>\n",
       "    </tr>\n",
       "    <tr>\n",
       "      <th>6</th>\n",
       "      <td>1517115603</td>\n",
       "      <td>8078c10d1b71a6746ce2c601b3624340</td>\n",
       "      <td>37c5acbcbb954ea7985180a84b4b72b3</td>\n",
       "      <td>Dorian's National League Room</td>\n",
       "    </tr>\n",
       "    <tr>\n",
       "      <th>7</th>\n",
       "      <td>1517115603</td>\n",
       "      <td>b54b6814fe3deff54704f16e17a75be3</td>\n",
       "      <td>5f2b1a8cd11c073bcfb8a9350aa2a898</td>\n",
       "      <td>Karter's Furious 7 Room</td>\n",
       "    </tr>\n",
       "    <tr>\n",
       "      <th>8</th>\n",
       "      <td>1517115603</td>\n",
       "      <td>b54b6814fe3deff54704f16e17a75be3</td>\n",
       "      <td>ca538f1c2e7d2daaa0e70cf77d3363ca</td>\n",
       "      <td>Alma's Carolina Panthers Room</td>\n",
       "    </tr>\n",
       "    <tr>\n",
       "      <th>9</th>\n",
       "      <td>1517115604</td>\n",
       "      <td>ff9a7cca11235bc89abeef1d06e4b0c6</td>\n",
       "      <td>d8dd0fd2bb02c64ae7a4896f3a35fa6b</td>\n",
       "      <td>Yaretzi's Pirates of the Caribbean: At World's...</td>\n",
       "    </tr>\n",
       "  </tbody>\n",
       "</table>\n",
       "</div>"
      ],
      "text/plain": [
       "    timestamp                              user  \\\n",
       "0  1517115600  4f1897100d843738adf0f86c0510cffe   \n",
       "1  1517115600  9fce3905a9bd5cd02297092a2f3894e8   \n",
       "2  1517115601  c8adb30f27f1f2c1638c6b2f1075b344   \n",
       "3  1517115601  c0394190e82e6ef469bc1bf896d780bb   \n",
       "4  1517115601  a7afb0757f3d05a844d2840927ba3d86   \n",
       "5  1517115603  43e9bf46e500316066bee4b69db85ee1   \n",
       "6  1517115603  8078c10d1b71a6746ce2c601b3624340   \n",
       "7  1517115603  b54b6814fe3deff54704f16e17a75be3   \n",
       "8  1517115603  b54b6814fe3deff54704f16e17a75be3   \n",
       "9  1517115604  ff9a7cca11235bc89abeef1d06e4b0c6   \n",
       "\n",
       "                               room  \\\n",
       "0  d4aaab942cbbe0e5b7726c6107f11608   \n",
       "1  ebe5843f5d3d9d23dc3024cc3e6188f5   \n",
       "2  210d8d1b60ae0d76c8740ebdda1f0375   \n",
       "3  3c2cd82f285b0f1d33307d9dd72511d1   \n",
       "4  98dbfe778189fd55c116aa9b91166f57   \n",
       "5  cfad11a52dbc7e230f710f2f58270883   \n",
       "6  37c5acbcbb954ea7985180a84b4b72b3   \n",
       "7  5f2b1a8cd11c073bcfb8a9350aa2a898   \n",
       "8  ca538f1c2e7d2daaa0e70cf77d3363ca   \n",
       "9  d8dd0fd2bb02c64ae7a4896f3a35fa6b   \n",
       "\n",
       "                                           room_name  \n",
       "0                Aubrielle's Kansas City Royals Room  \n",
       "1                                        Jude's Room  \n",
       "2                   Walter's Indianapolis Colts Room  \n",
       "3                        Ezekiel's Finding Nemo Room  \n",
       "4                    Jude's St. Louis Cardinals Room  \n",
       "5                                        Jude's Room  \n",
       "6                      Dorian's National League Room  \n",
       "7                            Karter's Furious 7 Room  \n",
       "8                      Alma's Carolina Panthers Room  \n",
       "9  Yaretzi's Pirates of the Caribbean: At World's...  "
      ]
     },
     "execution_count": 5,
     "metadata": {},
     "output_type": "execute_result"
    }
   ],
   "source": [
    "room_entries.head(10)"
   ]
  },
  {
   "cell_type": "code",
   "execution_count": 43,
   "metadata": {},
   "outputs": [],
   "source": [
    "import datetime\n",
    "room_entries['datetime'] = [datetime.datetime.fromtimestamp(i) for i in room_entries['timestamp']]"
   ]
  },
  {
   "cell_type": "code",
   "execution_count": 7,
   "metadata": {},
   "outputs": [
    {
     "data": {
      "text/plain": [
       "0   2018-01-28 00:00:00\n",
       "1   2018-01-28 00:00:00\n",
       "2   2018-01-28 00:00:01\n",
       "3   2018-01-28 00:00:01\n",
       "4   2018-01-28 00:00:01\n",
       "5   2018-01-28 00:00:03\n",
       "6   2018-01-28 00:00:03\n",
       "7   2018-01-28 00:00:03\n",
       "8   2018-01-28 00:00:03\n",
       "9   2018-01-28 00:00:04\n",
       "Name: datetime, dtype: datetime64[ns]"
      ]
     },
     "execution_count": 7,
     "metadata": {},
     "output_type": "execute_result"
    }
   ],
   "source": [
    "room_entries['datetime'].head(10)"
   ]
  },
  {
   "cell_type": "code",
   "execution_count": 8,
   "metadata": {},
   "outputs": [
    {
     "name": "stdout",
     "output_type": "stream",
     "text": [
      "2018-01-28 23:59:59\n",
      "2018-01-28 00:00:00\n"
     ]
    }
   ],
   "source": [
    "print(max(room_entries['datetime']))\n",
    "print(min(room_entries['datetime']))"
   ]
  },
  {
   "cell_type": "code",
   "execution_count": 2,
   "metadata": {},
   "outputs": [],
   "source": [
    "from sqlalchemy import create_engine\n",
    "engine = create_engine('sqlite://', echo=False)\n",
    "room_entries.to_sql('room_entries', con=engine)"
   ]
  },
  {
   "cell_type": "code",
   "execution_count": 11,
   "metadata": {},
   "outputs": [],
   "source": [
    "room_most_people = engine.execute(\"SELECT T1.room_name, T1.user_count FROM (select room_name, count(distinct user) as user_count from room_entries group by room_name) T1 ORDER BY user_count DESC LIMIT 1\").fetchall()"
   ]
  },
  {
   "cell_type": "code",
   "execution_count": 12,
   "metadata": {},
   "outputs": [
    {
     "name": "stdout",
     "output_type": "stream",
     "text": [
      "[(\"Emilio's Room\", 1017)]\n"
     ]
    }
   ],
   "source": [
    "print(room_most_people)"
   ]
  },
  {
   "cell_type": "code",
   "execution_count": 14,
   "metadata": {},
   "outputs": [
    {
     "name": "stdout",
     "output_type": "stream",
     "text": [
      "[(6.8900150526843955,)]\n"
     ]
    }
   ],
   "source": [
    "mean_room_entries_per_user = engine.execute(\"SELECT avg(room_count) FROM (select count(room) as room_count, user from room_entries group by user)\").fetchall()\n",
    "print(mean_room_entries_per_user)"
   ]
  },
  {
   "cell_type": "code",
   "execution_count": 15,
   "metadata": {},
   "outputs": [
    {
     "name": "stdout",
     "output_type": "stream",
     "text": [
      "[(9947,)]\n"
     ]
    }
   ],
   "source": [
    "user_went_atleast_three_rooms = engine.execute(\"SELECT count(distinct user) FROM (select count(distinct room) as room_count, user from room_entries group by user) T1 WHERE room_count>=3\").fetchall()\n",
    "print(user_went_atleast_three_rooms)"
   ]
  },
  {
   "cell_type": "code",
   "execution_count": 16,
   "metadata": {},
   "outputs": [
    {
     "name": "stdout",
     "output_type": "stream",
     "text": [
      "[(256,)]\n"
     ]
    }
   ],
   "source": [
    "rooms_2user_12hours = engine.execute(\"SELECT count(*) FROM (SELECT room, Count(distinct strftime('%H', datetime(timestamp, 'unixepoch'))) as hour_count, count(user) as user_count FROM room_entries GROUP BY room HAVING count(user)>=2 AND Count(distinct strftime('%H', datetime(timestamp, 'unixepoch')))>=12) T1\").fetchall()\n",
    "print(rooms_2user_12hours)"
   ]
  },
  {
   "cell_type": "code",
   "execution_count": 17,
   "metadata": {},
   "outputs": [
    {
     "name": "stdout",
     "output_type": "stream",
     "text": [
      "[('00', 14092), ('01', 15573), ('02', 15207), ('03', 14411), ('04', 16018), ('05', 14579), ('06', 16383), ('07', 18563), ('08', 20202), ('09', 22975), ('10', 17847), ('11', 12382), ('12', 7811), ('13', 4869), ('14', 3545), ('15', 2977), ('16', 2285), ('17', 2549), ('18', 3544), ('19', 5473), ('20', 8211), ('21', 9585), ('22', 12320), ('23', 13235)]\n"
     ]
    }
   ],
   "source": [
    "avg_roomEntries_per_hour = engine.execute(\"select strftime('%H', datetime(timestamp, 'unixepoch')) as hour,count(*) as entries_count from room_entries group by strftime('%H', datetime(timestamp, 'unixepoch'))\").fetchall()\n",
    "print(avg_roomEntries_per_hour)"
   ]
  },
  {
   "cell_type": "code",
   "execution_count": 19,
   "metadata": {},
   "outputs": [
    {
     "data": {
      "text/plain": [
       "list"
      ]
     },
     "execution_count": 19,
     "metadata": {},
     "output_type": "execute_result"
    }
   ],
   "source": [
    "type(avg_roomEntries_per_hour)"
   ]
  },
  {
   "cell_type": "code",
   "execution_count": 48,
   "metadata": {},
   "outputs": [
    {
     "name": "stderr",
     "output_type": "stream",
     "text": [
      "C:\\ProgramData\\Anaconda3\\lib\\site-packages\\ipykernel_launcher.py:5: RuntimeWarning: Second argument 'y' is ambiguous: could be a color spec but is in data; using as data.  Either rename the entry in data or use three arguments to plot.\n",
      "  \"\"\"\n"
     ]
    },
    {
     "data": {
      "image/png": "[encoded data removed]",
      "text/plain": [
       "<Figure size 432x288 with 1 Axes>"
      ]
     },
     "metadata": {
      "needs_background": "light"
     },
     "output_type": "display_data"
    }
   ],
   "source": [
    "import matplotlib.pyplot as plt\n",
    "import seaborn as sns\n",
    "\n",
    "df=pd.DataFrame({'x': [str(int(i[0])+5) if int(i[0])+5<24 else str(int(i[0])+5-24) for i in avg_roomEntries_per_hour], 'y': [i[1] for i in avg_roomEntries_per_hour] })\n",
    "plt.plot( 'x', 'y', data=df, linestyle='-', marker='o')\n",
    "plt.xlabel(\"Hour of Entrance\")\n",
    "plt.ylabel(\"# Room Entries\")\n",
    "plt.show()"
   ]
  },
  {
   "cell_type": "code",
   "execution_count": 101,
   "metadata": {},
   "outputs": [
    {
     "name": "stdout",
     "output_type": "stream",
     "text": [
      "[('00', 14092, 4194), ('01', 15573, 4386), ('02', 15207, 4290), ('03', 14411, 4304), ('04', 16018, 4620), ('05', 14579, 4324), ('06', 16383, 4704), ('07', 18563, 5213), ('08', 20202, 5422), ('09', 22975, 6539), ('10', 17847, 5071), ('11', 12382, 3548), ('12', 7811, 2315), ('13', 4869, 1456), ('14', 3545, 1057), ('15', 2977, 823), ('16', 2285, 765), ('17', 2549, 900), ('18', 3544, 1169), ('19', 5473, 1754), ('20', 8211, 2452), ('21', 9585, 3079), ('22', 12320, 3610), ('23', 13235, 3941)]\n"
     ]
    }
   ],
   "source": [
    "avg_distinct_users_per_hour = engine.execute(\"select strftime('%H', datetime(timestamp, 'unixepoch')) as hour, count(*) as count, count(distinct user) as user_count from room_entries group by strftime('%H', datetime(timestamp, 'unixepoch'))\").fetchall()\n",
    "print(avg_distinct_users_per_hour)"
   ]
  },
  {
   "cell_type": "code",
   "execution_count": 102,
   "metadata": {},
   "outputs": [
    {
     "name": "stderr",
     "output_type": "stream",
     "text": [
      "C:\\ProgramData\\Anaconda3\\lib\\site-packages\\ipykernel_launcher.py:5: RuntimeWarning: Second argument 'y' is ambiguous: could be a color spec but is in data; using as data.  Either rename the entry in data or use three arguments to plot.\n",
      "  \"\"\"\n"
     ]
    },
    {
     "data": {
      "image/png": "[encoded data removed]",
      "text/plain": [
       "<Figure size 432x288 with 1 Axes>"
      ]
     },
     "metadata": {
      "needs_background": "light"
     },
     "output_type": "display_data"
    }
   ],
   "source": [
    "import matplotlib.pyplot as plt\n",
    "import seaborn as sns\n",
    "\n",
    "df1=pd.DataFrame({'x': [str(int(i[0])+5) if int(i[0])+5<24 else str(int(i[0])+5-24) for i in avg_distinct_users_per_hour], 'y': [i[1]/i[2] for i in avg_distinct_users_per_hour] })\n",
    "plt.plot( 'x', 'y', data=df1, c='g', linestyle='-', marker='o')\n",
    "plt.xlabel(\"Hour of Entrance\")\n",
    "plt.ylabel(\"# Enteries by Distinct Users\")\n",
    "plt.show()"
   ]
  },
  {
   "cell_type": "code",
   "execution_count": 98,
   "metadata": {
    "scrolled": true
   },
   "outputs": [
    {
     "name": "stdout",
     "output_type": "stream",
     "text": [
      "[('00', 14092, 3997), ('01', 15573, 4113), ('02', 15207, 4137), ('03', 14411, 4022), ('04', 16018, 4413), ('05', 14579, 4024), ('06', 16383, 4384), ('07', 18563, 4746), ('08', 20202, 4994), ('09', 22975, 6345), ('10', 17847, 4769), ('11', 12382, 3390), ('12', 7811, 2320), ('13', 4869, 1499), ('14', 3545, 1220), ('15', 2977, 1000), ('16', 2285, 880), ('17', 2549, 1001), ('18', 3544, 1330), ('19', 5473, 2040), ('20', 8211, 2568), ('21', 9585, 3081), ('22', 12320, 3509), ('23', 13235, 3767)]\n"
     ]
    }
   ],
   "source": [
    "rooms_entered_per_hour = engine.execute(\"select strftime('%H', datetime(timestamp, 'unixepoch')) as hour, count(*) as enteries, count(distinct room) as rooms_count from room_entries group by strftime('%H', datetime(timestamp, 'unixepoch'))\").fetchall()\n",
    "print(rooms_entered_per_hour)"
   ]
  },
  {
   "cell_type": "code",
   "execution_count": 103,
   "metadata": {},
   "outputs": [
    {
     "name": "stderr",
     "output_type": "stream",
     "text": [
      "C:\\ProgramData\\Anaconda3\\lib\\site-packages\\ipykernel_launcher.py:5: RuntimeWarning: Second argument 'y' is ambiguous: could be a color spec but is in data; using as data.  Either rename the entry in data or use three arguments to plot.\n",
      "  \"\"\"\n"
     ]
    },
    {
     "data": {
      "image/png": "[encoded data removed]",
      "text/plain": [
       "<Figure size 432x288 with 1 Axes>"
      ]
     },
     "metadata": {
      "needs_background": "light"
     },
     "output_type": "display_data"
    }
   ],
   "source": [
    "import matplotlib.pyplot as plt\n",
    "import seaborn as sns\n",
    "\n",
    "df2=pd.DataFrame({'x': [str(int(i[0])+5) if int(i[0])+5<24 else str(int(i[0])+5-24) for i in rooms_entered_per_hour], 'y': [i[1]/i[2] for i in rooms_entered_per_hour] })\n",
    "plt.plot( 'x', 'y', data=df2, c='b', linestyle='-', marker='o')\n",
    "plt.xlabel(\"Hour of Entrance\")\n",
    "plt.ylabel(\"# Enteries per Room\")\n",
    "plt.show()"
   ]
  },
  {
   "cell_type": "code",
   "execution_count": 104,
   "metadata": {
    "scrolled": true
   },
   "outputs": [
    {
     "name": "stdout",
     "output_type": "stream",
     "text": [
      "[('00', 4194, 3997, 14092), ('01', 4386, 4113, 15573), ('02', 4290, 4137, 15207), ('03', 4304, 4022, 14411), ('04', 4620, 4413, 16018), ('05', 4324, 4024, 14579), ('06', 4704, 4384, 16383), ('07', 5213, 4746, 18563), ('08', 5422, 4994, 20202), ('09', 6539, 6345, 22975), ('10', 5071, 4769, 17847), ('11', 3548, 3390, 12382), ('12', 2315, 2320, 7811), ('13', 1456, 1499, 4869), ('14', 1057, 1220, 3545), ('15', 823, 1000, 2977), ('16', 765, 880, 2285), ('17', 900, 1001, 2549), ('18', 1169, 1330, 3544), ('19', 1754, 2040, 5473), ('20', 2452, 2568, 8211), ('21', 3079, 3081, 9585), ('22', 3610, 3509, 12320), ('23', 3941, 3767, 13235)]\n"
     ]
    }
   ],
   "source": [
    "uniq_user_per_uniq_room = engine.execute(\"select strftime('%H', datetime(timestamp, 'unixepoch')) as hour, count(distinct user) as user_count, count(distinct room) as room_count, count(*) from room_entries group by strftime('%H', datetime(timestamp, 'unixepoch'))\").fetchall()\n",
    "print(uniq_user_per_uniq_room)"
   ]
  },
  {
   "cell_type": "code",
   "execution_count": 97,
   "metadata": {},
   "outputs": [
    {
     "name": "stderr",
     "output_type": "stream",
     "text": [
      "C:\\ProgramData\\Anaconda3\\lib\\site-packages\\ipykernel_launcher.py:5: RuntimeWarning: Second argument 'y' is ambiguous: could be a color spec but is in data; using as data.  Either rename the entry in data or use three arguments to plot.\n",
      "  \"\"\"\n"
     ]
    },
    {
     "data": {
      "image/png": "[encoded data removed]",
      "text/plain": [
       "<Figure size 432x288 with 1 Axes>"
      ]
     },
     "metadata": {
      "needs_background": "light"
     },
     "output_type": "display_data"
    }
   ],
   "source": [
    "import matplotlib.pyplot as plt\n",
    "import seaborn as sns\n",
    "\n",
    "df4=pd.DataFrame({'x': [str(int(i[0])+5) if int(i[0])+5<24 else str(int(i[0])+5-24) for i in uniq_user_per_uniq_room], 'y': [i[1]/i[2] for i in uniq_user_per_uniq_room] })\n",
    "plt.plot( 'x', 'y', data=df4, c='c', linestyle='-', marker='o')\n",
    "plt.xlabel(\"Hour of Entrance\")\n",
    "plt.ylabel(\"Distinct User per Distinct Room\")\n",
    "plt.show()"
   ]
  },
  {
   "cell_type": "code",
   "execution_count": 30,
   "metadata": {},
   "outputs": [
    {
     "name": "stdout",
     "output_type": "stream",
     "text": [
      "[('00', 100.0), ('01', 100.0), ('02', 100.0), ('03', 100.0), ('04', 100.0), ('05', 100.0), ('06', 100.0), ('07', 100.0), ('08', 100.0), ('09', 100.0), ('10', 100.0), ('11', 100.0), ('12', 100.0), ('13', 100.0), ('14', 100.0), ('15', 100.0), ('16', 100.0), ('17', 100.0), ('18', 100.0), ('19', 100.0), ('20', 100.0), ('21', 100.0), ('22', 100.0), ('23', 100.0)]\n"
     ]
    }
   ],
   "source": [
    "avg_users_per_room = engine.execute(\"select strftime('%H', datetime(timestamp, 'unixepoch')) as hour, round(count(user)/count(room)*100,2) as entries_count from room_entries group by strftime('%H', datetime(timestamp, 'unixepoch'))\").fetchall()\n",
    "print(avg_users_per_room)"
   ]
  },
  {
   "cell_type": "code",
   "execution_count": 65,
   "metadata": {},
   "outputs": [],
   "source": [
    "from sklearn.linear_model import LinearRegression"
   ]
  },
  {
   "cell_type": "code",
   "execution_count": 90,
   "metadata": {},
   "outputs": [
    {
     "name": "stdout",
     "output_type": "stream",
     "text": [
      "[ 3360.67142857  6574.04285714 -7879.75714286 -2054.95714286]\n"
     ]
    }
   ],
   "source": [
    "hours = [str(int(i[0])+5) if int(i[0])+5<24 else str(int(i[0])+5-24) for i in avg_roomEntries_per_hour]\n",
    "X={}\n",
    "X['5am-12noon'] = [1 if int(i)>=5 and int(i)<12 else 0 for i in hours]\n",
    "X['12noon-5pm'] = [1 if int(i)>=12 and int(i)<17 else 0 for i in hours]\n",
    "X['5pm-12midnight'] = [1 if int(i)>=17 and int(i)<24 else 0 for i in hours]\n",
    "X['12midnight-5am'] = [1 if int(i)>=0 and int(i)<5 else 0 for i in hours]\n",
    "X=pd.DataFrame(data=X)\n",
    "y = [i[1] for i in avg_roomEntries_per_hour]\n",
    "reg = LinearRegression().fit(X, y)\n",
    "print(reg.coef_)"
   ]
  },
  {
   "cell_type": "code",
   "execution_count": 81,
   "metadata": {},
   "outputs": [
    {
     "name": "stdout",
     "output_type": "stream",
     "text": [
      "[ 1480.75 -1480.75]\n"
     ]
    }
   ],
   "source": [
    "hours = [str(int(i[0])+5) if int(i[0])+5<24 else str(int(i[0])+5-24) for i in avg_roomEntries_per_hour]\n",
    "X={}\n",
    "X['AM'] = [1 if int(i)>=0 and int(i)<12 else 0 for i in hours]\n",
    "X['PM'] = [1 if int(i)>=12 and int(i)<24 else 0 for i in hours]\n",
    "X=pd.DataFrame(data=X)\n",
    "y = [i[1] for i in avg_roomEntries_per_hour]\n",
    "reg = LinearRegression().fit(X, y)\n",
    "print(reg.coef_)"
   ]
  },
  {
   "cell_type": "code",
   "execution_count": null,
   "metadata": {},
   "outputs": [],
   "source": []
  },
  {
   "cell_type": "code",
   "execution_count": null,
   "metadata": {},
   "outputs": [],
   "source": []
  }
 ],
 "metadata": {
  "kernelspec": {
   "display_name": "Python 3",
   "language": "python",
   "name": "python3"
  },
  "language_info": {
   "codemirror_mode": {
    "name": "ipython",
    "version": 3
   },
   "file_extension": ".py",
   "mimetype": "text/x-python",
   "name": "python",
   "nbconvert_exporter": "python",
   "pygments_lexer": "ipython3",
   "version": "3.7.6"
  }
 },
 "nbformat": 4,
 "nbformat_minor": 4
}
